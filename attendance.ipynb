{
 "cells": [
  {
   "cell_type": "code",
   "execution_count": null,
   "id": "0fd55999-1779-4fe7-8aa4-e3d05460db22",
   "metadata": {},
   "outputs": [
    {
     "name": "stdout",
     "output_type": "stream",
     "text": [
      "\n",
      "Attendance Management System\n",
      "1.REGISTER USER\n",
      "2.LOGIN\n",
      "12.Exit\n"
     ]
    },
    {
     "name": "stdin",
     "output_type": "stream",
     "text": [
      "Enter your choice: 1\n",
      "Enter username:  vanshaj\n",
      "Enter password:  1234\n"
     ]
    },
    {
     "name": "stdout",
     "output_type": "stream",
     "text": [
      "User registration successful.\n",
      "\n",
      "Attendance Management System\n",
      "1.REGISTER USER\n",
      "2.LOGIN\n",
      "12.Exit\n"
     ]
    },
    {
     "name": "stdin",
     "output_type": "stream",
     "text": [
      "Enter your choice: 2\n",
      "Enter username:  vanshaj\n",
      "Enter password:  1234\n"
     ]
    },
    {
     "name": "stdout",
     "output_type": "stream",
     "text": [
      "Login successful.\n",
      "\n",
      "Attendance Management System\n",
      "3.ADD\n",
      "4.VIEW\n",
      "5.UPDATE\n",
      "6.DELETE\n",
      "7.MARK ATTENDANCE\n",
      "8.VIEW ATTENDANCE\n",
      "9.VIEW STUDENT ATTENDANCE\n",
      "10.GENERATE REPORT\n",
      "11.LOGOUT\n",
      "12.Exit\n"
     ]
    },
    {
     "name": "stdin",
     "output_type": "stream",
     "text": [
      "Enter your choice: 3\n",
      "Enter student id: 1\n",
      "Enter student name: vansh\n"
     ]
    },
    {
     "name": "stdout",
     "output_type": "stream",
     "text": [
      "student data added successfully\n",
      "\n",
      "Attendance Management System\n",
      "3.ADD\n",
      "4.VIEW\n",
      "5.UPDATE\n",
      "6.DELETE\n",
      "7.MARK ATTENDANCE\n",
      "8.VIEW ATTENDANCE\n",
      "9.VIEW STUDENT ATTENDANCE\n",
      "10.GENERATE REPORT\n",
      "11.LOGOUT\n",
      "12.Exit\n"
     ]
    },
    {
     "name": "stdin",
     "output_type": "stream",
     "text": [
      "Enter your choice: 4\n"
     ]
    },
    {
     "name": "stdout",
     "output_type": "stream",
     "text": [
      "StudentID \t Name\n",
      "1 \t\t vansh\n",
      "\n",
      "Attendance Management System\n",
      "3.ADD\n",
      "4.VIEW\n",
      "5.UPDATE\n",
      "6.DELETE\n",
      "7.MARK ATTENDANCE\n",
      "8.VIEW ATTENDANCE\n",
      "9.VIEW STUDENT ATTENDANCE\n",
      "10.GENERATE REPORT\n",
      "11.LOGOUT\n",
      "12.Exit\n"
     ]
    },
    {
     "name": "stdin",
     "output_type": "stream",
     "text": [
      "Enter your choice: 5\n",
      "Enter student Id to update 1\n",
      "Enter student name vanshaj\n"
     ]
    },
    {
     "name": "stdout",
     "output_type": "stream",
     "text": [
      "student information updated successfully\n",
      "\n",
      "Attendance Management System\n",
      "3.ADD\n",
      "4.VIEW\n",
      "5.UPDATE\n",
      "6.DELETE\n",
      "7.MARK ATTENDANCE\n",
      "8.VIEW ATTENDANCE\n",
      "9.VIEW STUDENT ATTENDANCE\n",
      "10.GENERATE REPORT\n",
      "11.LOGOUT\n",
      "12.Exit\n"
     ]
    },
    {
     "name": "stdin",
     "output_type": "stream",
     "text": [
      "Enter your choice: 3\n",
      "Enter student id: 2\n",
      "Enter student name: vanshika\n"
     ]
    },
    {
     "name": "stdout",
     "output_type": "stream",
     "text": [
      "student data added successfully\n",
      "\n",
      "Attendance Management System\n",
      "3.ADD\n",
      "4.VIEW\n",
      "5.UPDATE\n",
      "6.DELETE\n",
      "7.MARK ATTENDANCE\n",
      "8.VIEW ATTENDANCE\n",
      "9.VIEW STUDENT ATTENDANCE\n",
      "10.GENERATE REPORT\n",
      "11.LOGOUT\n",
      "12.Exit\n"
     ]
    },
    {
     "name": "stdin",
     "output_type": "stream",
     "text": [
      "Enter your choice: 4\n"
     ]
    },
    {
     "name": "stdout",
     "output_type": "stream",
     "text": [
      "StudentID \t Name\n",
      "1 \t\t vanshaj\n",
      "2 \t\t vanshika\n",
      "\n",
      "Attendance Management System\n",
      "3.ADD\n",
      "4.VIEW\n",
      "5.UPDATE\n",
      "6.DELETE\n",
      "7.MARK ATTENDANCE\n",
      "8.VIEW ATTENDANCE\n",
      "9.VIEW STUDENT ATTENDANCE\n",
      "10.GENERATE REPORT\n",
      "11.LOGOUT\n",
      "12.Exit\n"
     ]
    },
    {
     "name": "stdin",
     "output_type": "stream",
     "text": [
      "Enter your choice: 6\n",
      "Enter student ID to delete 1\n"
     ]
    },
    {
     "name": "stdout",
     "output_type": "stream",
     "text": [
      "student data deleted successfully\n",
      "\n",
      "Attendance Management System\n",
      "3.ADD\n",
      "4.VIEW\n",
      "5.UPDATE\n",
      "6.DELETE\n",
      "7.MARK ATTENDANCE\n",
      "8.VIEW ATTENDANCE\n",
      "9.VIEW STUDENT ATTENDANCE\n",
      "10.GENERATE REPORT\n",
      "11.LOGOUT\n",
      "12.Exit\n"
     ]
    },
    {
     "name": "stdin",
     "output_type": "stream",
     "text": [
      "Enter your choice: 7\n",
      "Enter the student ID to mark attendance: 1\n",
      "Enter date (DD-MM-YYYY): 02-08-2023\n"
     ]
    },
    {
     "name": "stdout",
     "output_type": "stream",
     "text": [
      "\n",
      "Attendance Management System\n",
      "3.ADD\n",
      "4.VIEW\n",
      "5.UPDATE\n",
      "6.DELETE\n",
      "7.MARK ATTENDANCE\n",
      "8.VIEW ATTENDANCE\n",
      "9.VIEW STUDENT ATTENDANCE\n",
      "10.GENERATE REPORT\n",
      "11.LOGOUT\n",
      "12.Exit\n"
     ]
    },
    {
     "name": "stdin",
     "output_type": "stream",
     "text": [
      "Enter your choice: 8\n",
      "Enter date (DD-MM-YYYY): 02-08-2023\n"
     ]
    },
    {
     "name": "stdout",
     "output_type": "stream",
     "text": [
      "No attendance records for this date.\n",
      "\n",
      "Attendance Management System\n",
      "3.ADD\n",
      "4.VIEW\n",
      "5.UPDATE\n",
      "6.DELETE\n",
      "7.MARK ATTENDANCE\n",
      "8.VIEW ATTENDANCE\n",
      "9.VIEW STUDENT ATTENDANCE\n",
      "10.GENERATE REPORT\n",
      "11.LOGOUT\n",
      "12.Exit\n"
     ]
    },
    {
     "name": "stdin",
     "output_type": "stream",
     "text": [
      "Enter your choice: 9\n",
      "Enter student ID to view attendance: 1\n"
     ]
    },
    {
     "name": "stdout",
     "output_type": "stream",
     "text": [
      "Attendance record for student ID: 1\n",
      "\n",
      "Attendance Management System\n",
      "3.ADD\n",
      "4.VIEW\n",
      "5.UPDATE\n",
      "6.DELETE\n",
      "7.MARK ATTENDANCE\n",
      "8.VIEW ATTENDANCE\n",
      "9.VIEW STUDENT ATTENDANCE\n",
      "10.GENERATE REPORT\n",
      "11.LOGOUT\n",
      "12.Exit\n"
     ]
    },
    {
     "name": "stdin",
     "output_type": "stream",
     "text": [
      "Enter your choice: 10\n"
     ]
    },
    {
     "name": "stdout",
     "output_type": "stream",
     "text": [
      "Attendance report:\n",
      "Date \t\t present count\n",
      "\n",
      "Attendance Management System\n",
      "3.ADD\n",
      "4.VIEW\n",
      "5.UPDATE\n",
      "6.DELETE\n",
      "7.MARK ATTENDANCE\n",
      "8.VIEW ATTENDANCE\n",
      "9.VIEW STUDENT ATTENDANCE\n",
      "10.GENERATE REPORT\n",
      "11.LOGOUT\n",
      "12.Exit\n"
     ]
    }
   ],
   "source": [
    "users={}\n",
    "students={}\n",
    "attendance_records={}\n",
    "\n",
    "def register_user(username,password):\n",
    "    if username not in users:\n",
    "        users[username]=password\n",
    "        return True\n",
    "    \n",
    "\n",
    "def login_user(username,password):\n",
    "    if username in users and users[username]==password:\n",
    "        return True\n",
    "    return False\n",
    "\n",
    "def add_student(student_id,name):\n",
    "    students[student_id]=name\n",
    "\n",
    "def view_students():\n",
    "    print(\"StudentID \\t Name\")\n",
    "    for student_id,name in students.items():\n",
    "        print(f\"{student_id } \\t\\t {name}\")\n",
    "\n",
    "def update_student(student_id , name):\n",
    "    if student_id in students:\n",
    "        students[student_id]=name\n",
    "        return True\n",
    "    return False\n",
    "\n",
    "def delete_student(student_id):\n",
    "    if student_id in students:\n",
    "        del students[student_id]\n",
    "        for date,attendance_list in attendance_records.items():\n",
    "            attendance_records[date]=[record for record in attendance_list if record['student_id']!=student_id]\n",
    "        return True\n",
    "    return False\n",
    "\n",
    "def mark_attendance( date, student_ids):\n",
    "    if date not in attendance_records:\n",
    "        attendance_records[date]=[]\n",
    "        for student_id in student_ids:\n",
    "            if student_id in students:\n",
    "                attendance_records[date].append({'student_id':student_id , 'status': 'Present'})\n",
    "            else:\n",
    "               print(f\"Student with ID {student_id} doesn't exits\")\n",
    "            \n",
    "def view_attendance(date):\n",
    "    if date in attendance_records:\n",
    "        print(f\"Attendance for {date}:\")\n",
    "        for record in attendance_records[date]:\n",
    "            student_id = record['student_id']\n",
    "            status = record['status']\n",
    "            name = students.get(student_id, \"Unknown\")\n",
    "            print(f\"Student ID: {student_id} \\t Name: {name} \\t Status: {status}\")\n",
    "    else:\n",
    "        print(\"No attendance records for this date.\")\n",
    "\n",
    "def view_student_attendance(student_id):\n",
    "     print(f\"Attendance record for student ID: {student_id}\")\n",
    "     for date,attendance_list in attendance_records.items():\n",
    "          for record in attendance_list:\n",
    "             if record['student_id'] == student_id:\n",
    "                status = record['status']\n",
    "                print(f\"Date:{date} \\t Status:{status}\")\n",
    "                break\n",
    "          else:\n",
    "               print(f\"No attendance record for Student Id: {student_id}\")\n",
    "            \n",
    "             \n",
    "def generate_report():\n",
    "    print(\"Attendance report:\")\n",
    "    print(\"Date \\t\\t present count\")\n",
    "    for date,attendance_list in attendance_records.items():\n",
    "        present_count=sum(1 for record in attendance_list if record['status']=='present')\n",
    "        print(f\"{date} \\t {present_count}\")\n",
    "             \n",
    "def main():\n",
    "    is_logged_in=False\n",
    "    while True:\n",
    "        print(\"\\nAttendance Management System\")\n",
    "        if not is_logged_in:\n",
    "            print(\"1.REGISTER USER\")\n",
    "            print(\"2.LOGIN\")\n",
    "        else:\n",
    "            print(\"3.ADD\")\n",
    "            print(\"4.VIEW\")\n",
    "            print(\"5.UPDATE\")\n",
    "            print(\"6.DELETE\")\n",
    "            print(\"7.MARK ATTENDANCE\")\n",
    "            print(\"8.VIEW ATTENDANCE\")\n",
    "            print(\"9.VIEW STUDENT ATTENDANCE\")\n",
    "            print(\"10.GENERATE REPORT\")\n",
    "            print(\"11.LOGOUT\")\n",
    "            \n",
    "        \n",
    "        print(\"12.Exit\")\n",
    "        choice=int(input(\"Enter your choice:\"))\n",
    "        if not is_logged_in:\n",
    "            if choice == 1:\n",
    "                username = input(\"Enter username: \")\n",
    "                password = input(\"Enter password: \")\n",
    "                if register_user(username, password):\n",
    "                    print(\"User registration successful.\")\n",
    "                else:\n",
    "                    print(\"Username already exists.\")\n",
    "            elif choice == 2:\n",
    "                username = input(\"Enter username: \")\n",
    "                password = input(\"Enter password: \")\n",
    "                if login_user(username, password):\n",
    "                    is_logged_in = True  # Set is_logged_in to True on successful login\n",
    "                    print(\"Login successful.\")\n",
    "                else:\n",
    "                    print(\"Invalid username or password.\")\n",
    "            \n",
    "        else: \n",
    "            if choice==3:\n",
    "                student_id=input(\"Enter student id:\")\n",
    "                student_name=input(\"Enter student name:\")\n",
    "                add_student(student_id,student_name)\n",
    "                print(\"student data added successfully\")\n",
    "            elif choice == 4:\n",
    "                view_students()\n",
    "            elif choice == 5:\n",
    "                student_id=input(\"Enter student Id to update:\")\n",
    "                name=input(\"Enter student name:\")\n",
    "                if update_student(student_id,name):\n",
    "                    print(\"student information updated successfully\")\n",
    "                else:\n",
    "                    print(\"Student with specificed ID not found\")\n",
    "            elif choice == 6:\n",
    "                 student_id=input(\"Enter student ID to delete:3\")\n",
    "                 if delete_student(student_id):\n",
    "                     print(\"student data deleted successfully\")\n",
    "                 else:\n",
    "                     print(\"Student data not found\")\n",
    "            elif choice == 7:\n",
    "                 student_ids=input(\"Enter the student ID to mark attendance:\")\n",
    "                 date=input(\"Enter date (DD-MM-YYYY):\")\n",
    "\n",
    "            elif choice == 8:\n",
    "                 date=input(\"Enter date (DD-MM-YYYY):\")\n",
    "                 view_attendance(date)\n",
    "\n",
    "            elif choice == 9:\n",
    "                 student_id= input(\"Enter student ID to view attendance:\")\n",
    "                 view_student_attendance(student_id)\n",
    "\n",
    "            elif choice == 10:\n",
    "                generate_report()\n",
    "\n",
    "            elif choice == 11:\n",
    "                is_logged_in = False\n",
    "                print(\"Logged out successfully.\")\n",
    "            elif choice == 12:\n",
    "                print(\"Exiting the Attendance Management System.\")\n",
    "                break\n",
    "            else:\n",
    "                print(\"Invalid choice. Please try again.\")\n",
    "main()\n",
    "                    "
   ]
  },
  {
   "cell_type": "code",
   "execution_count": null,
   "id": "23a8be94-92a6-48d6-894e-440714e71ac8",
   "metadata": {},
   "outputs": [],
   "source": []
  }
 ],
 "metadata": {
  "kernelspec": {
   "display_name": "Python 3 (ipykernel)",
   "language": "python",
   "name": "python3"
  },
  "language_info": {
   "codemirror_mode": {
    "name": "ipython",
    "version": 3
   },
   "file_extension": ".py",
   "mimetype": "text/x-python",
   "name": "python",
   "nbconvert_exporter": "python",
   "pygments_lexer": "ipython3",
   "version": "3.9.13"
  }
 },
 "nbformat": 4,
 "nbformat_minor": 5
}
